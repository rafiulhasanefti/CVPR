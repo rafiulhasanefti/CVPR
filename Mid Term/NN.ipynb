{
  "nbformat": 4,
  "nbformat_minor": 0,
  "metadata": {
    "colab": {
      "provenance": []
    },
    "kernelspec": {
      "name": "python3",
      "display_name": "Python 3"
    },
    "language_info": {
      "name": "python"
    }
  },
  "cells": [
    {
      "cell_type": "code",
      "execution_count": null,
      "metadata": {
        "id": "B8AmNeM2SGmC"
      },
      "outputs": [],
      "source": [
        "\n",
        "import numpy as np\n",
        "import matplotlib.pyplot as plt\n",
        "\n",
        "np.random.seed(0)\n",
        "\n",
        "X = np.array([\n",
        "    [0,0,0],\n",
        "    [0,0,1],\n",
        "    [0,1,0],\n",
        "    [0,1,1],\n",
        "    [1,0,0],\n",
        "    [1,0,1],\n",
        "    [1,1,0],\n",
        "    [1,1,1]\n",
        "])\n",
        "Y = np.array([\n",
        "    [0],\n",
        "    [1],\n",
        "    [1],\n",
        "    [0],\n",
        "    [1],\n",
        "    [0],\n",
        "    [0],\n",
        "    [1]\n",
        "])\n"
      ]
    },
    {
      "cell_type": "code",
      "source": [
        "import numpy as np\n",
        "\n",
        "class NeuralNetwork(object):\n",
        "    def __init__(self):\n",
        "        inputLayerNeurons = 3\n",
        "        hiddenLayerNeurons1 = 10\n",
        "        hiddenLayerNeurons2 = 6\n",
        "        outLayerNeurons = 1\n",
        "\n",
        "        self.learning_rate = 0.002\n",
        "        self.W_HI   = np.random.randn(inputLayerNeurons, hiddenLayerNeurons1)\n",
        "        self.W_H1H2 = np.random.randn(hiddenLayerNeurons1, hiddenLayerNeurons2)\n",
        "        self.W_OH   = np.random.randn(hiddenLayerNeurons2, outLayerNeurons)\n",
        "\n",
        "    def sigmoid(self, x, der=False):\n",
        "        if der:\n",
        "            return x * (1 - x)\n",
        "        return 1 / (1 + np.exp(-x))\n",
        "\n",
        "    def feedForward(self, X):\n",
        "        X = np.array(X, ndmin=2)\n",
        "        self.h1 = self.sigmoid(np.dot(X, self.W_HI))\n",
        "        self.h2 = self.sigmoid(np.dot(self.h1, self.W_H1H2))\n",
        "        pred = self.sigmoid(np.dot(self.h2, self.W_OH))\n",
        "        return pred\n",
        "\n",
        "    def backPropagation(self, X, Y, pred):\n",
        "        X = np.array(X, ndmin=2)\n",
        "        Y = np.array(Y, ndmin=2)\n",
        "\n",
        "\n",
        "        out_err   = Y - pred\n",
        "        out_delta = self.learning_rate * out_err * self.sigmoid(pred, der=True)\n",
        "\n",
        "\n",
        "        h2_err   = np.dot(out_delta, self.W_OH.T)\n",
        "        h2_delta = self.learning_rate * h2_err * self.sigmoid(self.h2, der=True)\n",
        "\n",
        "\n",
        "        h1_err   = np.dot(h2_delta, self.W_H1H2.T)\n",
        "        h1_delta = self.learning_rate * h1_err * self.sigmoid(self.h1, der=True)\n",
        "\n",
        "\n",
        "        self.W_OH   += np.dot(self.h2.T, out_delta)\n",
        "        self.W_H1H2 += np.dot(self.h1.T, h2_delta)\n",
        "        self.W_HI   += np.dot(X.T, h1_delta)\n",
        "\n",
        "    def train(self, X, Y):\n",
        "        pred = self.feedForward(X)\n",
        "        self.backPropagation(X, Y, pred)\n"
      ],
      "metadata": {
        "id": "ixYHzCoJSVcC"
      },
      "execution_count": null,
      "outputs": []
    },
    {
      "cell_type": "code",
      "source": [
        "\n",
        "NN = NeuralNetwork()\n",
        "\n",
        "err = []\n",
        "for i in range(10000):\n",
        "    NN.train(X,Y)\n",
        "    err.append(np.mean(np.square(Y - NN.feedForward(X))))\n",
        "\n",
        "plt.plot(err)"
      ],
      "metadata": {
        "colab": {
          "base_uri": "https://localhost:8080/",
          "height": 447
        },
        "id": "HXNSHxORSb9a",
        "outputId": "6d094813-f4d7-41a0-fdee-20a7543275c5"
      },
      "execution_count": null,
      "outputs": [
        {
          "output_type": "execute_result",
          "data": {
            "text/plain": [
              "[<matplotlib.lines.Line2D at 0x7b9452e00d10>]"
            ]
          },
          "metadata": {},
          "execution_count": 76
        },
        {
          "output_type": "display_data",
          "data": {
            "text/plain": [
              "<Figure size 640x480 with 1 Axes>"
            ],
            "image/png": "[encoded data removed]"
          },
          "metadata": {}
        }
      ]
    },
    {
      "cell_type": "code",
      "source": [
        "\n",
        "print(NN.feedForward([0,0,0]))"
      ],
      "metadata": {
        "colab": {
          "base_uri": "https://localhost:8080/"
        },
        "id": "Iub2l1ULS1-r",
        "outputId": "2a3ff0e1-5284-4b6b-c593-6147ef6504fa"
      },
      "execution_count": null,
      "outputs": [
        {
          "output_type": "stream",
          "name": "stdout",
          "text": [
            "[[0.4839677]]\n"
          ]
        }
      ]
    },
    {
      "cell_type": "code",
      "source": [
        "print(NN.feedForward([0,0,1]))"
      ],
      "metadata": {
        "colab": {
          "base_uri": "https://localhost:8080/"
        },
        "id": "mpQtqJy0S4SZ",
        "outputId": "fe258a13-e087-40b7-e61e-728cdddc183f"
      },
      "execution_count": null,
      "outputs": [
        {
          "output_type": "stream",
          "name": "stdout",
          "text": [
            "[[0.50074835]]\n"
          ]
        }
      ]
    },
    {
      "cell_type": "code",
      "source": [
        "\n",
        "print(NN.feedForward([0,1,0]))"
      ],
      "metadata": {
        "id": "yu62_4J4S6Yi",
        "colab": {
          "base_uri": "https://localhost:8080/"
        },
        "outputId": "60d7b1d1-a29c-46f6-c6b9-273eae8848bc"
      },
      "execution_count": null,
      "outputs": [
        {
          "output_type": "stream",
          "name": "stdout",
          "text": [
            "[[0.48936744]]\n"
          ]
        }
      ]
    },
    {
      "cell_type": "code",
      "source": [
        "print(NN.feedForward([0,1,1]))"
      ],
      "metadata": {
        "colab": {
          "base_uri": "https://localhost:8080/"
        },
        "id": "NXPsAYqs3q5k",
        "outputId": "f5efe2de-4f22-40ac-bc4c-33d12b0c14c0"
      },
      "execution_count": null,
      "outputs": [
        {
          "output_type": "stream",
          "name": "stdout",
          "text": [
            "[[0.51383749]]\n"
          ]
        }
      ]
    },
    {
      "cell_type": "code",
      "source": [
        "print(NN.feedForward([1,0,0]))"
      ],
      "metadata": {
        "colab": {
          "base_uri": "https://localhost:8080/"
        },
        "id": "BNeuFLep4TZz",
        "outputId": "5d4374e3-2620-4c60-b61a-2328d345fc77"
      },
      "execution_count": null,
      "outputs": [
        {
          "output_type": "stream",
          "name": "stdout",
          "text": [
            "[[0.49257753]]\n"
          ]
        }
      ]
    },
    {
      "cell_type": "code",
      "source": [
        "print(NN.feedForward([1,0,1]))"
      ],
      "metadata": {
        "colab": {
          "base_uri": "https://localhost:8080/"
        },
        "id": "0eLX9zuy5Mqc",
        "outputId": "e97140d1-3ca3-429f-c166-68efce0cb244"
      },
      "execution_count": null,
      "outputs": [
        {
          "output_type": "stream",
          "name": "stdout",
          "text": [
            "[[0.51920812]]\n"
          ]
        }
      ]
    },
    {
      "cell_type": "code",
      "source": [
        "print(NN.feedForward([1,1,0]))"
      ],
      "metadata": {
        "colab": {
          "base_uri": "https://localhost:8080/"
        },
        "id": "VsyydqqF5S3q",
        "outputId": "164568a3-47b1-439b-c1f0-b77b1665d90a"
      },
      "execution_count": null,
      "outputs": [
        {
          "output_type": "stream",
          "name": "stdout",
          "text": [
            "[[0.49049603]]\n"
          ]
        }
      ]
    },
    {
      "cell_type": "code",
      "source": [
        "print(NN.feedForward([1,1,1]))"
      ],
      "metadata": {
        "colab": {
          "base_uri": "https://localhost:8080/"
        },
        "id": "mLbzRco85YYE",
        "outputId": "d552dc46-0122-48fd-8a7a-6a78596a98e6"
      },
      "execution_count": null,
      "outputs": [
        {
          "output_type": "stream",
          "name": "stdout",
          "text": [
            "[[0.52018233]]\n"
          ]
        }
      ]
    }
  ]
}